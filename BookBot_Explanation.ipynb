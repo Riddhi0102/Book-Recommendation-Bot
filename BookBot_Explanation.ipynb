{
 "cells": [
  {
   "cell_type": "markdown",
   "id": "35a70305",
   "metadata": {},
   "source": [
    "# Book Recommendation Chatbot using IBM Watson Assistant"
   ]
  },
  {
   "cell_type": "markdown",
   "id": "56bc14b2",
   "metadata": {},
   "source": [
    "\n",
    "## Project Overview\n",
    "\n",
    "This chatbot provides personalized book recommendations based on:\n",
    "- Genre\n",
    "- Mood\n",
    "- Author\n",
    "- Reading Level\n",
    "\n",
    "The chatbot is built using IBM Watson Assistant and uses Natural Language Processing (NLP) to understand user inputs and provide relevant suggestions.\n"
   ]
  },
  {
   "cell_type": "markdown",
   "id": "6c3a6bb4",
   "metadata": {},
   "source": [
    "\n",
    "## Models Used (Conceptually)\n",
    "\n",
    "While no custom ML models are trained, Watson Assistant uses:\n",
    "\n",
    "- **Intent Classification:** Classifies user goals such as asking for a book, greeting, or help.\n",
    "- **Entity Recognition:** Extracts specific information like genre or mood from user inputs.\n",
    "- **Dialog Management System:** Uses rule-based flow to determine the best response based on intent, context, and slot filling.\n"
   ]
  },
  {
   "cell_type": "markdown",
   "id": "45244601",
   "metadata": {},
   "source": [
    "\n",
    "## Inputs and Outputs\n",
    "\n",
    "| User Input                         | Detected Intent  | Extracted Entity       | Bot Response                                             |\n",
    "|------------------------------------|------------------|------------------------|----------------------------------------------------------|\n",
    "| \"Suggest a fantasy book\"           | `#Genre_Search`  | `@genre_entity: fantasy` | \"Try *Mistborn* by Brandon Sanderson.\"               |\n",
    "| \"I feel anxious\"                   | `#Mood_Based`    | `@mood_entity: anxious` | \"*The Midnight Library* might help you feel better.\"   |\n",
    "| \"Books by Dan Brown\"              | `#Author_Search` | `@author_entity: dan brown` | \"*Inferno* and *The Da Vinci Code* are great picks.\" |\n",
    "| \"I’m a teen, what should I read?\" | `#ReadingLevel`  | `@readinglevel: teen`   | \"Try *Percy Jackson* for an engaging teen read.\"       |\n"
   ]
  },
  {
   "cell_type": "markdown",
   "id": "1f0b2b1a",
   "metadata": {},
   "source": [
    "\n",
    "## Intents and Entities\n",
    "\n",
    "### Intents\n",
    "\n",
    "- `#Greeting`: User says hello\n",
    "- `#Goodbye`: User ends chat\n",
    "- `#Genre_Search`: User asks for a genre-based recommendation\n",
    "- `#Mood_Based`: User expresses their mood\n",
    "- `#Author_Search`: User asks about a specific author\n",
    "- `#ReadingLevel`: User specifies a reading level\n",
    "- `#Need_Help`: User asks for guidance or says \"I don't know what to read\"\n",
    "- `#Fallback`: Default fallback when nothing matches\n",
    "\n",
    "### Entities\n",
    "\n",
    "- `@genre_entity`: fantasy, thriller, romance, mystery, etc.\n",
    "- `@mood_entity`: happy, sad, bored, stressed, etc.\n",
    "- `@author_entity`: J.K. Rowling, Dan Brown, etc.\n",
    "- `@readinglevel`: beginner, teen, expert, adult\n"
   ]
  },
  {
   "cell_type": "code",
   "execution_count": null,
   "id": "154abd8e",
   "metadata": {},
   "outputs": [],
   "source": [
    "# Simulated Watson logic in Python (for demonstration only)\n",
    "def recommend_book(intent, entity):\n",
    "    if intent == \"Genre_Search\" and entity == \"fantasy\":\n",
    "        return \"Try 'Mistborn' by Brandon Sanderson.\"\n",
    "    elif intent == \"Mood_Based\" and entity == \"sad\":\n",
    "        return \"You might like 'The Midnight Library' by Matt Haig.\"\n",
    "    elif intent == \"Author_Search\" and entity == \"dan brown\":\n",
    "        return \"'Inferno' and 'The Da Vinci Code' are excellent choices.\"\n",
    "    elif intent == \"ReadingLevel\" and entity == \"beginner\":\n",
    "        return \"'Charlotte’s Web' is a great book for beginners.\"\n",
    "    else:\n",
    "        return \"Sorry, I couldn't find a match. Can you rephrase?\"\n",
    "\n",
    "# Example\n",
    "recommend_book(\"Mood_Based\", \"sad\")"
   ]
  },
  {
   "cell_type": "markdown",
   "id": "f0a0d510",
   "metadata": {},
   "source": [
    "\n",
    "## Hosting and Submission\n",
    "\n",
    "- The entire Watson Assistant skill is exported as JSON and included in this repo.\n",
    "- Entity and intent data are uploaded as CSV files.\n",
    "- This notebook explains the logic for educational purposes.\n"
   ]
  }
 ],
 "metadata": {},
 "nbformat": 4,
 "nbformat_minor": 5
}
